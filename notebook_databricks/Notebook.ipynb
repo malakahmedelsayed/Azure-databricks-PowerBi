{
 "cells": [
  {
   "cell_type": "code",
   "execution_count": 0,
   "metadata": {
    "application/vnd.databricks.v1+cell": {
     "cellMetadata": {
      "byteLimit": 2048000,
      "rowLimit": 10000
     },
     "inputWidgets": {},
     "nuid": "0d787501-f0b0-47cd-a210-0fa700075546",
     "showTitle": false,
     "tableResultSettingsMap": {},
     "title": ""
    }
   },
   "outputs": [
    {
     "name": "stdout",
     "output_type": "stream",
     "text": [
      "+--------+--------------------+------------+\n",
      "|store_id|          store_name|    location|\n",
      "+--------+--------------------+------------+\n",
      "|       1|     City Mall Store|         UAE|\n",
      "|       2|   High Street Store|Saudi Arabia|\n",
      "|       3|   Tech World Outlet|       Qatar|\n",
      "|       4|Cairo Festival Ci...|       Egypt|\n",
      "|       5|          Mega Plaza|      Kuwait|\n",
      "+--------+--------------------+------------+\n",
      "\n"
     ]
    }
   ],
   "source": [
    "df_store = spark.read.parquet(\"abfss://retails@database112.dfs.core.windows.net/dbo.stores.parquet\")\n",
    "df_store.show(5)"
   ]
  },
  {
   "cell_type": "code",
   "execution_count": 0,
   "metadata": {
    "application/vnd.databricks.v1+cell": {
     "cellMetadata": {
      "byteLimit": 2048000,
      "rowLimit": 10000
     },
     "inputWidgets": {},
     "nuid": "7810f4cb-f6c1-4d23-9953-a5de5ad6ce54",
     "showTitle": false,
     "tableResultSettingsMap": {},
     "title": ""
    }
   },
   "outputs": [
    {
     "name": "stdout",
     "output_type": "stream",
     "text": [
      "+-----------+----------------+--------------------+------------+-----------------+\n",
      "|customer_id|       full_name|               email|     country|registration_date|\n",
      "+-----------+----------------+--------------------+------------+-----------------+\n",
      "|        101|    Ahmed Khaled|ahmed.khaled1@gma...|       Egypt|       2025-10-16|\n",
      "|        102| Sara Al Mansour|sara.almansour2@o...|Saudi Arabia|       2025-10-18|\n",
      "|        103|    Layla Kazemi|layla.kazemi3@yah...|         UAE|       2025-10-19|\n",
      "|        104|     Omar Farouk|omar.farouk4@gmai...|       Egypt|       2025-10-17|\n",
      "|        105|Fatima Al Rashid|fatima.alrashid5@...|Saudi Arabia|       2025-10-15|\n",
      "+-----------+----------------+--------------------+------------+-----------------+\n",
      "only showing top 5 rows\n"
     ]
    }
   ],
   "source": [
    "df_customers = spark.read.parquet(\"abfss://retails@database112.dfs.core.windows.net/MohammedHameds/Retails_Project/refs/heads/main/dataset/customers.parquet\")\n",
    "df_customers.show(5)\n",
    " \n",
    " "
   ]
  },
  {
   "cell_type": "code",
   "execution_count": 0,
   "metadata": {
    "application/vnd.databricks.v1+cell": {
     "cellMetadata": {
      "byteLimit": 2048000,
      "rowLimit": 10000
     },
     "inputWidgets": {},
     "nuid": "e978543b-aec9-421a-94b3-12b690dfa9ee",
     "showTitle": false,
     "tableResultSettingsMap": {},
     "title": ""
    }
   },
   "outputs": [
    {
     "name": "stdout",
     "output_type": "stream",
     "text": [
      "+----------+-----------------+-----------+-----+\n",
      "|product_id|     product_name|   category|price|\n",
      "+----------+-----------------+-----------+-----+\n",
      "|         1|   Wireless Mouse|Electronics|  800|\n",
      "|         2|Bluetooth Speaker|Electronics| 1200|\n",
      "|         3|         Yoga Mat|    Fitness|  499|\n",
      "|         4|     Laptop Stand|Accessories|  999|\n",
      "|         5|     Notebook Set| Stationery|  149|\n",
      "+----------+-----------------+-----------+-----+\n",
      "only showing top 5 rows\n"
     ]
    }
   ],
   "source": [
    "df_products = spark.read.parquet(\"abfss://retails@database112.dfs.core.windows.net/dbo.products.parquet\")\n",
    "df_products.show(5)"
   ]
  },
  {
   "cell_type": "code",
   "execution_count": 0,
   "metadata": {
    "application/vnd.databricks.v1+cell": {
     "cellMetadata": {
      "byteLimit": 2048000,
      "rowLimit": 10000
     },
     "inputWidgets": {},
     "nuid": "c9c4f42d-5f7f-4a0f-9202-6b3ff7d19835",
     "showTitle": false,
     "tableResultSettingsMap": {},
     "title": ""
    }
   },
   "outputs": [
    {
     "name": "stdout",
     "output_type": "stream",
     "text": [
      "+--------------+-----------+----------+--------+--------+----------------+\n",
      "|transaction_id|customer_id|product_id|store_id|quantity|transaction_date|\n",
      "+--------------+-----------+----------+--------+--------+----------------+\n",
      "|            31|        101|         1|       1|       3|      2025-04-01|\n",
      "|            32|        102|         2|       2|       2|      2025-04-03|\n",
      "|            33|        103|         3|       3|       1|      2025-04-05|\n",
      "|            34|        104|         4|       4|       5|      2025-04-07|\n",
      "|            35|        105|         5|       5|       2|      2025-04-09|\n",
      "+--------------+-----------+----------+--------+--------+----------------+\n",
      "only showing top 5 rows\n"
     ]
    }
   ],
   "source": [
    "df_transactions = spark.read.parquet(\"abfss://retails@database112.dfs.core.windows.net/dbo.transactions.parquet\")\n",
    "df_transactions.show(5)"
   ]
  },
  {
   "cell_type": "code",
   "execution_count": 0,
   "metadata": {
    "application/vnd.databricks.v1+cell": {
     "cellMetadata": {
      "byteLimit": 2048000,
      "rowLimit": 10000
     },
     "inputWidgets": {},
     "nuid": "e381aa24-3d3c-499e-a8a1-d3e3698831b7",
     "showTitle": false,
     "tableResultSettingsMap": {},
     "title": ""
    }
   },
   "outputs": [],
   "source": [
    "df_store.write.mode(\"overwrite\").saveAsTable(\"malakahmed.sales.store_bronze\")\n"
   ]
  },
  {
   "cell_type": "code",
   "execution_count": 0,
   "metadata": {
    "application/vnd.databricks.v1+cell": {
     "cellMetadata": {
      "byteLimit": 2048000,
      "rowLimit": 10000
     },
     "inputWidgets": {},
     "nuid": "77c57115-1371-432c-ae02-aea1420fa1e3",
     "showTitle": false,
     "tableResultSettingsMap": {},
     "title": ""
    }
   },
   "outputs": [],
   "source": [
    "df_customers.write.mode(\"overwrite\").saveAsTable(\"malakahmed.sales.customers_bronze\")"
   ]
  },
  {
   "cell_type": "code",
   "execution_count": 0,
   "metadata": {
    "application/vnd.databricks.v1+cell": {
     "cellMetadata": {
      "byteLimit": 2048000,
      "rowLimit": 10000
     },
     "inputWidgets": {},
     "nuid": "5be9397d-cb6e-4613-b35a-5c7b81654db6",
     "showTitle": false,
     "tableResultSettingsMap": {},
     "title": ""
    }
   },
   "outputs": [],
   "source": [
    "df_products.write.mode(\"overwrite\").saveAsTable(\"malakahmed.sales.productss_bronze\")"
   ]
  },
  {
   "cell_type": "code",
   "execution_count": 0,
   "metadata": {
    "application/vnd.databricks.v1+cell": {
     "cellMetadata": {
      "byteLimit": 2048000,
      "rowLimit": 10000
     },
     "inputWidgets": {},
     "nuid": "9e399ee7-1a1f-457d-8bef-beed6ac77fa5",
     "showTitle": false,
     "tableResultSettingsMap": {},
     "title": ""
    }
   },
   "outputs": [
    {
     "name": "stdout",
     "output_type": "stream",
     "text": [
      "root\n",
      " |-- customer_id: long (nullable = true)\n",
      " |-- full_name: string (nullable = true)\n",
      " |-- email: string (nullable = true)\n",
      " |-- country: string (nullable = true)\n",
      " |-- registration_date: string (nullable = true)\n",
      "\n"
     ]
    }
   ],
   "source": [
    "df_customers.printSchema()"
   ]
  },
  {
   "cell_type": "code",
   "execution_count": 0,
   "metadata": {
    "application/vnd.databricks.v1+cell": {
     "cellMetadata": {
      "byteLimit": 2048000,
      "rowLimit": 10000
     },
     "inputWidgets": {},
     "nuid": "212846aa-bd36-41ff-bb5b-9c158dce0972",
     "showTitle": false,
     "tableResultSettingsMap": {},
     "title": ""
    }
   },
   "outputs": [
    {
     "name": "stdout",
     "output_type": "stream",
     "text": [
      "root\n",
      " |-- product_id: integer (nullable = true)\n",
      " |-- product_name: string (nullable = true)\n",
      " |-- category: string (nullable = true)\n",
      " |-- price: integer (nullable = true)\n",
      "\n"
     ]
    }
   ],
   "source": [
    "df_products.printSchema()"
   ]
  },
  {
   "cell_type": "code",
   "execution_count": 0,
   "metadata": {
    "application/vnd.databricks.v1+cell": {
     "cellMetadata": {
      "byteLimit": 2048000,
      "rowLimit": 10000
     },
     "inputWidgets": {},
     "nuid": "03788a8c-f0fe-4755-ae48-404e089f2b77",
     "showTitle": false,
     "tableResultSettingsMap": {},
     "title": ""
    }
   },
   "outputs": [
    {
     "name": "stdout",
     "output_type": "stream",
     "text": [
      "root\n",
      " |-- store_id: integer (nullable = true)\n",
      " |-- store_name: string (nullable = true)\n",
      " |-- location: string (nullable = true)\n",
      "\n"
     ]
    }
   ],
   "source": [
    "df_store.printSchema()"
   ]
  },
  {
   "cell_type": "code",
   "execution_count": 0,
   "metadata": {
    "application/vnd.databricks.v1+cell": {
     "cellMetadata": {
      "byteLimit": 2048000,
      "rowLimit": 10000
     },
     "inputWidgets": {},
     "nuid": "e9ed5cde-89df-4a81-9a74-0afcab856a1f",
     "showTitle": false,
     "tableResultSettingsMap": {},
     "title": ""
    }
   },
   "outputs": [
    {
     "name": "stdout",
     "output_type": "stream",
     "text": [
      "root\n",
      " |-- transaction_id: integer (nullable = true)\n",
      " |-- customer_id: integer (nullable = true)\n",
      " |-- product_id: integer (nullable = true)\n",
      " |-- store_id: integer (nullable = true)\n",
      " |-- quantity: integer (nullable = true)\n",
      " |-- transaction_date: date (nullable = true)\n",
      "\n"
     ]
    }
   ],
   "source": [
    "df_transactions.printSchema()"
   ]
  },
  {
   "cell_type": "code",
   "execution_count": 0,
   "metadata": {
    "application/vnd.databricks.v1+cell": {
     "cellMetadata": {
      "byteLimit": 2048000,
      "rowLimit": 10000
     },
     "inputWidgets": {},
     "nuid": "efc9cf0c-1d34-4cfe-80c2-1edfc323bc67",
     "showTitle": false,
     "tableResultSettingsMap": {},
     "title": ""
    }
   },
   "outputs": [
    {
     "data": {
      "text/html": [
       "<style scoped>\n",
       "  .table-result-container {\n",
       "    max-height: 300px;\n",
       "    overflow: auto;\n",
       "  }\n",
       "  table, th, td {\n",
       "    border: 1px solid black;\n",
       "    border-collapse: collapse;\n",
       "  }\n",
       "  th, td {\n",
       "    padding: 5px;\n",
       "  }\n",
       "  th {\n",
       "    text-align: left;\n",
       "  }\n",
       "</style><div class='table-result-container'><table class='table-result'><thead style='background-color: white'><tr><th>customer_id</th><th>full_name</th><th>email</th><th>country</th><th>registration_date</th></tr></thead><tbody><tr><td>101</td><td>Ahmed Khaled</td><td>ahmed.khaled1@gmail.com</td><td>Egypt</td><td>2025-10-16</td></tr><tr><td>102</td><td>Sara Al Mansour</td><td>sara.almansour2@outlook.com</td><td>Saudi Arabia</td><td>2025-10-18</td></tr><tr><td>103</td><td>Layla Kazemi</td><td>layla.kazemi3@yahoo.com</td><td>UAE</td><td>2025-10-19</td></tr><tr><td>104</td><td>Omar Farouk</td><td>omar.farouk4@gmail.com</td><td>Egypt</td><td>2025-10-17</td></tr><tr><td>105</td><td>Fatima Al Rashid</td><td>fatima.alrashid5@hotmail.com</td><td>Saudi Arabia</td><td>2025-10-15</td></tr><tr><td>106</td><td>Yousef Nasser</td><td>yousef.nasser6@gmail.com</td><td>UAE</td><td>2025-10-16</td></tr><tr><td>107</td><td>Mona Hossam</td><td>mona.hossam7@yahoo.com</td><td>Egypt</td><td>2025-10-18</td></tr><tr><td>108</td><td>Hassan Al Saud</td><td>hassan.alsaud8@outlook.com</td><td>Saudi Arabia</td><td>2025-10-19</td></tr><tr><td>109</td><td>Ayesha Khan</td><td>ayesha.khan9@gmail.com</td><td>UAE</td><td>2025-10-15</td></tr><tr><td>110</td><td>Tamer Adel</td><td>tamer.adel10@hotmail.com</td><td>Egypt</td><td>2025-10-17</td></tr><tr><td>111</td><td>Rania Saad</td><td>rania.saad11@gmail.com</td><td>Saudi Arabia</td><td>2025-10-16</td></tr><tr><td>112</td><td>Karim Hamed</td><td>karim.hamed12@yahoo.com</td><td>UAE</td><td>2025-10-18</td></tr><tr><td>113</td><td>Laila Fouad</td><td>laila.fouad13@gmail.com</td><td>Egypt</td><td>2025-10-19</td></tr><tr><td>114</td><td>Sami Al Obaid</td><td>sami.alobaid14@outlook.com</td><td>Saudi Arabia</td><td>2025-10-15</td></tr><tr><td>115</td><td>Dina Samir</td><td>dina.samir15@hotmail.com</td><td>UAE</td><td>2025-10-17</td></tr><tr><td>116</td><td>Adel Nabil</td><td>adel.nabil16@gmail.com</td><td>Egypt</td><td>2025-10-16</td></tr><tr><td>117</td><td>Mariam Al Farsi</td><td>mariam.alfarsi17@outlook.com</td><td>Saudi Arabia</td><td>2025-10-18</td></tr><tr><td>118</td><td>Omar Al Mazrouei</td><td>omar.almazrouei18@yahoo.com</td><td>UAE</td><td>2025-10-19</td></tr><tr><td>119</td><td>Nour Khalifa</td><td>nour.khalifa19@gmail.com</td><td>Egypt</td><td>2025-10-15</td></tr><tr><td>120</td><td>Yara Saleh</td><td>yara.saleh20@hotmail.com</td><td>Saudi Arabia</td><td>2025-10-17</td></tr><tr><td>121</td><td>Tariq Hassan</td><td>tariq.hassan21@gmail.com</td><td>UAE</td><td>2025-10-16</td></tr><tr><td>122</td><td>Lina Abdul</td><td>lina.abdul22@outlook.com</td><td>Egypt</td><td>2025-10-18</td></tr><tr><td>123</td><td>Rami Al Zahrani</td><td>rami.alzahrani23@yahoo.com</td><td>Saudi Arabia</td><td>2025-10-19</td></tr><tr><td>124</td><td>Samar Fouad</td><td>samar.fouad24@gmail.com</td><td>UAE</td><td>2025-10-15</td></tr><tr><td>125</td><td>Huda Nasser</td><td>huda.nasser25@hotmail.com</td><td>Egypt</td><td>2025-10-17</td></tr><tr><td>126</td><td>Mohammed Al Amiri</td><td>mohammed.alamiri26@gmail.com</td><td>Saudi Arabia</td><td>2025-10-16</td></tr><tr><td>127</td><td>Leila Hassan</td><td>leila.hassan27@outlook.com</td><td>UAE</td><td>2025-10-18</td></tr><tr><td>128</td><td>Omar Saleh</td><td>omar.saleh28@yahoo.com</td><td>Egypt</td><td>2025-10-19</td></tr><tr><td>129</td><td>Nadia Khaled</td><td>nadia.khaled29@gmail.com</td><td>Saudi Arabia</td><td>2025-10-15</td></tr><tr><td>130</td><td>Rashid Al Habib</td><td>rashid.alhabib30@hotmail.com</td><td>UAE</td><td>2025-10-17</td></tr><tr><td>131</td><td>Dalia Samir</td><td>dalia.samir31@gmail.com</td><td>Egypt</td><td>2025-10-16</td></tr><tr><td>132</td><td>Faisal Al Saud</td><td>faisal.alsaud32@outlook.com</td><td>Saudi Arabia</td><td>2025-10-18</td></tr><tr><td>133</td><td>Mona Youssef</td><td>mona.youssef33@yahoo.com</td><td>UAE</td><td>2025-10-19</td></tr><tr><td>134</td><td>Hani Adel</td><td>hani.adel34@gmail.com</td><td>Egypt</td><td>2025-10-15</td></tr><tr><td>135</td><td>Aya Al Khalifa</td><td>aya.alkhalifa35@hotmail.com</td><td>Saudi Arabia</td><td>2025-10-17</td></tr><tr><td>136</td><td>Khaled Mazrouei</td><td>khaled.mazrouei36@gmail.com</td><td>UAE</td><td>2025-10-16</td></tr><tr><td>137</td><td>Salma Hossam</td><td>salma.hossam37@outlook.com</td><td>Egypt</td><td>2025-10-18</td></tr><tr><td>138</td><td>Youssef Al Farsi</td><td>youssef.alfarsi38@yahoo.com</td><td>Saudi Arabia</td><td>2025-10-19</td></tr><tr><td>139</td><td>Nour Al Rashid</td><td>nour.alrashid39@gmail.com</td><td>UAE</td><td>2025-10-15</td></tr><tr><td>140</td><td>Tamer Nabil</td><td>tamer.nabil40@hotmail.com</td><td>Egypt</td><td>2025-10-17</td></tr><tr><td>141</td><td>Lina Al Saud</td><td>lina.alsaud41@gmail.com</td><td>Saudi Arabia</td><td>2025-10-16</td></tr><tr><td>142</td><td>Rami Khaled</td><td>rami.khaled42@outlook.com</td><td>UAE</td><td>2025-10-18</td></tr><tr><td>143</td><td>Dina Saleh</td><td>dina.saleh43@yahoo.com</td><td>Egypt</td><td>2025-10-19</td></tr><tr><td>144</td><td>Adel Al Mansour</td><td>adel.almansour44@gmail.com</td><td>Saudi Arabia</td><td>2025-10-15</td></tr><tr><td>145</td><td>Mariam Hossam</td><td>mariam.hossam45@hotmail.com</td><td>UAE</td><td>2025-10-17</td></tr><tr><td>146</td><td>Omar Khalifa</td><td>omar.khalifa46@gmail.com</td><td>Egypt</td><td>2025-10-16</td></tr><tr><td>147</td><td>Fatima Al Mazrouei</td><td>fatima.almazrouei47@outlook.com</td><td>Saudi Arabia</td><td>2025-10-18</td></tr><tr><td>148</td><td>Yara Nasser</td><td>yara.nasser48@yahoo.com</td><td>UAE</td><td>2025-10-19</td></tr><tr><td>149</td><td>Hassan Adel</td><td>hassan.adel49@gmail.com</td><td>Egypt</td><td>2025-10-15</td></tr><tr><td>150</td><td>Leila Al Saud</td><td>leila.alsaud50@hotmail.com</td><td>Saudi Arabia</td><td>2025-10-17</td></tr></tbody></table></div>"
      ]
     },
     "metadata": {
      "application/vnd.databricks.v1+output": {
       "addedWidgets": {},
       "aggData": [],
       "aggError": "",
       "aggOverflow": false,
       "aggSchema": [],
       "aggSeriesLimitReached": false,
       "aggType": "",
       "arguments": {},
       "columnCustomDisplayInfos": {},
       "data": [
        [
         101,
         "Ahmed Khaled",
         "ahmed.khaled1@gmail.com",
         "Egypt",
         "2025-10-16"
        ],
        [
         102,
         "Sara Al Mansour",
         "sara.almansour2@outlook.com",
         "Saudi Arabia",
         "2025-10-18"
        ],
        [
         103,
         "Layla Kazemi",
         "layla.kazemi3@yahoo.com",
         "UAE",
         "2025-10-19"
        ],
        [
         104,
         "Omar Farouk",
         "omar.farouk4@gmail.com",
         "Egypt",
         "2025-10-17"
        ],
        [
         105,
         "Fatima Al Rashid",
         "fatima.alrashid5@hotmail.com",
         "Saudi Arabia",
         "2025-10-15"
        ],
        [
         106,
         "Yousef Nasser",
         "yousef.nasser6@gmail.com",
         "UAE",
         "2025-10-16"
        ],
        [
         107,
         "Mona Hossam",
         "mona.hossam7@yahoo.com",
         "Egypt",
         "2025-10-18"
        ],
        [
         108,
         "Hassan Al Saud",
         "hassan.alsaud8@outlook.com",
         "Saudi Arabia",
         "2025-10-19"
        ],
        [
         109,
         "Ayesha Khan",
         "ayesha.khan9@gmail.com",
         "UAE",
         "2025-10-15"
        ],
        [
         110,
         "Tamer Adel",
         "tamer.adel10@hotmail.com",
         "Egypt",
         "2025-10-17"
        ],
        [
         111,
         "Rania Saad",
         "rania.saad11@gmail.com",
         "Saudi Arabia",
         "2025-10-16"
        ],
        [
         112,
         "Karim Hamed",
         "karim.hamed12@yahoo.com",
         "UAE",
         "2025-10-18"
        ],
        [
         113,
         "Laila Fouad",
         "laila.fouad13@gmail.com",
         "Egypt",
         "2025-10-19"
        ],
        [
         114,
         "Sami Al Obaid",
         "sami.alobaid14@outlook.com",
         "Saudi Arabia",
         "2025-10-15"
        ],
        [
         115,
         "Dina Samir",
         "dina.samir15@hotmail.com",
         "UAE",
         "2025-10-17"
        ],
        [
         116,
         "Adel Nabil",
         "adel.nabil16@gmail.com",
         "Egypt",
         "2025-10-16"
        ],
        [
         117,
         "Mariam Al Farsi",
         "mariam.alfarsi17@outlook.com",
         "Saudi Arabia",
         "2025-10-18"
        ],
        [
         118,
         "Omar Al Mazrouei",
         "omar.almazrouei18@yahoo.com",
         "UAE",
         "2025-10-19"
        ],
        [
         119,
         "Nour Khalifa",
         "nour.khalifa19@gmail.com",
         "Egypt",
         "2025-10-15"
        ],
        [
         120,
         "Yara Saleh",
         "yara.saleh20@hotmail.com",
         "Saudi Arabia",
         "2025-10-17"
        ],
        [
         121,
         "Tariq Hassan",
         "tariq.hassan21@gmail.com",
         "UAE",
         "2025-10-16"
        ],
        [
         122,
         "Lina Abdul",
         "lina.abdul22@outlook.com",
         "Egypt",
         "2025-10-18"
        ],
        [
         123,
         "Rami Al Zahrani",
         "rami.alzahrani23@yahoo.com",
         "Saudi Arabia",
         "2025-10-19"
        ],
        [
         124,
         "Samar Fouad",
         "samar.fouad24@gmail.com",
         "UAE",
         "2025-10-15"
        ],
        [
         125,
         "Huda Nasser",
         "huda.nasser25@hotmail.com",
         "Egypt",
         "2025-10-17"
        ],
        [
         126,
         "Mohammed Al Amiri",
         "mohammed.alamiri26@gmail.com",
         "Saudi Arabia",
         "2025-10-16"
        ],
        [
         127,
         "Leila Hassan",
         "leila.hassan27@outlook.com",
         "UAE",
         "2025-10-18"
        ],
        [
         128,
         "Omar Saleh",
         "omar.saleh28@yahoo.com",
         "Egypt",
         "2025-10-19"
        ],
        [
         129,
         "Nadia Khaled",
         "nadia.khaled29@gmail.com",
         "Saudi Arabia",
         "2025-10-15"
        ],
        [
         130,
         "Rashid Al Habib",
         "rashid.alhabib30@hotmail.com",
         "UAE",
         "2025-10-17"
        ],
        [
         131,
         "Dalia Samir",
         "dalia.samir31@gmail.com",
         "Egypt",
         "2025-10-16"
        ],
        [
         132,
         "Faisal Al Saud",
         "faisal.alsaud32@outlook.com",
         "Saudi Arabia",
         "2025-10-18"
        ],
        [
         133,
         "Mona Youssef",
         "mona.youssef33@yahoo.com",
         "UAE",
         "2025-10-19"
        ],
        [
         134,
         "Hani Adel",
         "hani.adel34@gmail.com",
         "Egypt",
         "2025-10-15"
        ],
        [
         135,
         "Aya Al Khalifa",
         "aya.alkhalifa35@hotmail.com",
         "Saudi Arabia",
         "2025-10-17"
        ],
        [
         136,
         "Khaled Mazrouei",
         "khaled.mazrouei36@gmail.com",
         "UAE",
         "2025-10-16"
        ],
        [
         137,
         "Salma Hossam",
         "salma.hossam37@outlook.com",
         "Egypt",
         "2025-10-18"
        ],
        [
         138,
         "Youssef Al Farsi",
         "youssef.alfarsi38@yahoo.com",
         "Saudi Arabia",
         "2025-10-19"
        ],
        [
         139,
         "Nour Al Rashid",
         "nour.alrashid39@gmail.com",
         "UAE",
         "2025-10-15"
        ],
        [
         140,
         "Tamer Nabil",
         "tamer.nabil40@hotmail.com",
         "Egypt",
         "2025-10-17"
        ],
        [
         141,
         "Lina Al Saud",
         "lina.alsaud41@gmail.com",
         "Saudi Arabia",
         "2025-10-16"
        ],
        [
         142,
         "Rami Khaled",
         "rami.khaled42@outlook.com",
         "UAE",
         "2025-10-18"
        ],
        [
         143,
         "Dina Saleh",
         "dina.saleh43@yahoo.com",
         "Egypt",
         "2025-10-19"
        ],
        [
         144,
         "Adel Al Mansour",
         "adel.almansour44@gmail.com",
         "Saudi Arabia",
         "2025-10-15"
        ],
        [
         145,
         "Mariam Hossam",
         "mariam.hossam45@hotmail.com",
         "UAE",
         "2025-10-17"
        ],
        [
         146,
         "Omar Khalifa",
         "omar.khalifa46@gmail.com",
         "Egypt",
         "2025-10-16"
        ],
        [
         147,
         "Fatima Al Mazrouei",
         "fatima.almazrouei47@outlook.com",
         "Saudi Arabia",
         "2025-10-18"
        ],
        [
         148,
         "Yara Nasser",
         "yara.nasser48@yahoo.com",
         "UAE",
         "2025-10-19"
        ],
        [
         149,
         "Hassan Adel",
         "hassan.adel49@gmail.com",
         "Egypt",
         "2025-10-15"
        ],
        [
         150,
         "Leila Al Saud",
         "leila.alsaud50@hotmail.com",
         "Saudi Arabia",
         "2025-10-17"
        ]
       ],
       "datasetInfos": [],
       "dbfsResultPath": null,
       "isJsonSchema": true,
       "metadata": {},
       "overflow": false,
       "plotOptions": {
        "customPlotOptions": {},
        "displayType": "table",
        "pivotAggregation": null,
        "pivotColumns": null,
        "xColumns": null,
        "yColumns": null
       },
       "removedWidgets": [],
       "schema": [
        {
         "metadata": "{}",
         "name": "customer_id",
         "type": "\"long\""
        },
        {
         "metadata": "{}",
         "name": "full_name",
         "type": "\"string\""
        },
        {
         "metadata": "{}",
         "name": "email",
         "type": "\"string\""
        },
        {
         "metadata": "{}",
         "name": "country",
         "type": "\"string\""
        },
        {
         "metadata": "{}",
         "name": "registration_date",
         "type": "\"string\""
        }
       ],
       "type": "table"
      }
     },
     "output_type": "display_data"
    }
   ],
   "source": [
    "display(df_customers)"
   ]
  },
  {
   "cell_type": "code",
   "execution_count": 0,
   "metadata": {
    "application/vnd.databricks.v1+cell": {
     "cellMetadata": {
      "byteLimit": 2048000,
      "rowLimit": 10000
     },
     "inputWidgets": {},
     "nuid": "a0d7824d-fd8c-4b2e-8f66-892d896ddd28",
     "showTitle": false,
     "tableResultSettingsMap": {},
     "title": ""
    }
   },
   "outputs": [],
   "source": [
    "from pyspark.sql.functions import  col, sum , count"
   ]
  },
  {
   "cell_type": "code",
   "execution_count": 0,
   "metadata": {
    "application/vnd.databricks.v1+cell": {
     "cellMetadata": {
      "byteLimit": 2048000,
      "rowLimit": 10000
     },
     "inputWidgets": {},
     "nuid": "9eccbb62-5259-4ee2-91f3-21b4bb452439",
     "showTitle": false,
     "tableResultSettingsMap": {},
     "title": ""
    }
   },
   "outputs": [
    {
     "data": {
      "text/plain": [
       "DataFrame[customer_id: int, full_name: string, email: string, country: string, registration_date: date]"
      ]
     },
     "execution_count": 20,
     "metadata": {},
     "output_type": "execute_result"
    }
   ],
   "source": [
    "df_customers.select(\n",
    "    col(\"customer_id\").cast(\"int\"),\n",
    "    col(\"full_name\"),\n",
    "    col(\"email\"),\n",
    "    col(\"country\"),\n",
    "    col(\"registration_date\").cast(\"date\")\n",
    "    )\n"
   ]
  },
  {
   "cell_type": "code",
   "execution_count": 0,
   "metadata": {
    "application/vnd.databricks.v1+cell": {
     "cellMetadata": {
      "byteLimit": 2048000,
      "rowLimit": 10000
     },
     "inputWidgets": {},
     "nuid": "d66b51f9-8902-438d-8d39-18508097503a",
     "showTitle": false,
     "tableResultSettingsMap": {},
     "title": ""
    }
   },
   "outputs": [
    {
     "name": "stdout",
     "output_type": "stream",
     "text": [
      "root\n",
      " |-- customer_id: long (nullable = true)\n",
      " |-- full_name: string (nullable = true)\n",
      " |-- email: string (nullable = true)\n",
      " |-- country: string (nullable = true)\n",
      " |-- registration_date: string (nullable = true)\n",
      "\n"
     ]
    }
   ],
   "source": [
    "df_customers.printSchema()"
   ]
  },
  {
   "cell_type": "code",
   "execution_count": 0,
   "metadata": {
    "application/vnd.databricks.v1+cell": {
     "cellMetadata": {
      "byteLimit": 2048000,
      "rowLimit": 10000
     },
     "inputWidgets": {},
     "nuid": "0dab6490-f37a-4cfc-a818-5ca1bf946c9e",
     "showTitle": false,
     "tableResultSettingsMap": {},
     "title": ""
    }
   },
   "outputs": [],
   "source": [
    "df=df_transactions.join(df_customers,\"customer_id\").join(df_products,\"product_id\").join(df_store,\"store_id\")\n",
    "df.write.mode(\"overwrite\").saveAsTable(\"malakahmed.sales.df_silver\")\n"
   ]
  },
  {
   "cell_type": "code",
   "execution_count": 0,
   "metadata": {
    "application/vnd.databricks.v1+cell": {
     "cellMetadata": {
      "byteLimit": 2048000,
      "rowLimit": 10000
     },
     "inputWidgets": {},
     "nuid": "cd2c834f-8be0-499a-97c9-e2f0d43e917e",
     "showTitle": false,
     "tableResultSettingsMap": {},
     "title": ""
    }
   },
   "outputs": [
    {
     "data": {
      "text/html": [
       "<style scoped>\n",
       "  .table-result-container {\n",
       "    max-height: 300px;\n",
       "    overflow: auto;\n",
       "  }\n",
       "  table, th, td {\n",
       "    border: 1px solid black;\n",
       "    border-collapse: collapse;\n",
       "  }\n",
       "  th, td {\n",
       "    padding: 5px;\n",
       "  }\n",
       "  th {\n",
       "    text-align: left;\n",
       "  }\n",
       "</style><div class='table-result-container'><table class='table-result'><thead style='background-color: white'><tr><th>store_id</th><th>product_id</th><th>customer_id</th><th>transaction_id</th><th>quantity</th><th>transaction_date</th><th>full_name</th><th>email</th><th>country</th><th>registration_date</th><th>product_name</th><th>category</th><th>price</th><th>store_name</th><th>location</th></tr></thead><tbody><tr><td>3</td><td>8</td><td>101</td><td>58</td><td>3</td><td>2025-05-25</td><td>Ahmed Khaled</td><td>ahmed.khaled1@gmail.com</td><td>Egypt</td><td>2025-10-16</td><td>Desk Organizer</td><td>Accessories</td><td>399</td><td>Tech World Outlet</td><td>Qatar</td></tr><tr><td>4</td><td>9</td><td>102</td><td>59</td><td>5</td><td>2025-05-27</td><td>Sara Al Mansour</td><td>sara.almansour2@outlook.com</td><td>Saudi Arabia</td><td>2025-10-18</td><td>Dumbbell Set</td><td>Fitness</td><td>1999</td><td>Cairo Festival City Mall</td><td>Egypt</td></tr><tr><td>5</td><td>10</td><td>103</td><td>60</td><td>1</td><td>2025-05-29</td><td>Layla Kazemi</td><td>layla.kazemi3@yahoo.com</td><td>UAE</td><td>2025-10-19</td><td>Pen Drive 32GB</td><td>Electronics</td><td>599</td><td>Mega Plaza</td><td>Kuwait</td></tr><tr><td>1</td><td>1</td><td>104</td><td>61</td><td>2</td><td>2025-06-01</td><td>Omar Farouk</td><td>omar.farouk4@gmail.com</td><td>Egypt</td><td>2025-10-17</td><td>Wireless Mouse</td><td>Electronics</td><td>800</td><td>City Mall Store</td><td>UAE</td></tr><tr><td>2</td><td>2</td><td>105</td><td>62</td><td>3</td><td>2025-06-03</td><td>Fatima Al Rashid</td><td>fatima.alrashid5@hotmail.com</td><td>Saudi Arabia</td><td>2025-10-15</td><td>Bluetooth Speaker</td><td>Electronics</td><td>1200</td><td>High Street Store</td><td>Saudi Arabia</td></tr><tr><td>3</td><td>3</td><td>106</td><td>63</td><td>4</td><td>2025-06-05</td><td>Yousef Nasser</td><td>yousef.nasser6@gmail.com</td><td>UAE</td><td>2025-10-16</td><td>Yoga Mat</td><td>Fitness</td><td>499</td><td>Tech World Outlet</td><td>Qatar</td></tr><tr><td>4</td><td>4</td><td>107</td><td>64</td><td>5</td><td>2025-06-07</td><td>Mona Hossam</td><td>mona.hossam7@yahoo.com</td><td>Egypt</td><td>2025-10-18</td><td>Laptop Stand</td><td>Accessories</td><td>999</td><td>Cairo Festival City Mall</td><td>Egypt</td></tr><tr><td>5</td><td>5</td><td>108</td><td>65</td><td>1</td><td>2025-06-09</td><td>Hassan Al Saud</td><td>hassan.alsaud8@outlook.com</td><td>Saudi Arabia</td><td>2025-10-19</td><td>Notebook Set</td><td>Stationery</td><td>149</td><td>Mega Plaza</td><td>Kuwait</td></tr><tr><td>1</td><td>6</td><td>109</td><td>66</td><td>2</td><td>2025-06-11</td><td>Ayesha Khan</td><td>ayesha.khan9@gmail.com</td><td>UAE</td><td>2025-10-15</td><td>Water Bottle</td><td>Fitness</td><td>299</td><td>City Mall Store</td><td>UAE</td></tr><tr><td>2</td><td>7</td><td>110</td><td>67</td><td>3</td><td>2025-06-13</td><td>Tamer Adel</td><td>tamer.adel10@hotmail.com</td><td>Egypt</td><td>2025-10-17</td><td>Smartwatch</td><td>Electronics</td><td>4999</td><td>High Street Store</td><td>Saudi Arabia</td></tr><tr><td>3</td><td>8</td><td>111</td><td>68</td><td>4</td><td>2025-06-15</td><td>Rania Saad</td><td>rania.saad11@gmail.com</td><td>Saudi Arabia</td><td>2025-10-16</td><td>Desk Organizer</td><td>Accessories</td><td>399</td><td>Tech World Outlet</td><td>Qatar</td></tr><tr><td>4</td><td>9</td><td>112</td><td>69</td><td>5</td><td>2025-06-17</td><td>Karim Hamed</td><td>karim.hamed12@yahoo.com</td><td>UAE</td><td>2025-10-18</td><td>Dumbbell Set</td><td>Fitness</td><td>1999</td><td>Cairo Festival City Mall</td><td>Egypt</td></tr><tr><td>5</td><td>10</td><td>113</td><td>70</td><td>1</td><td>2025-06-19</td><td>Laila Fouad</td><td>laila.fouad13@gmail.com</td><td>Egypt</td><td>2025-10-19</td><td>Pen Drive 32GB</td><td>Electronics</td><td>599</td><td>Mega Plaza</td><td>Kuwait</td></tr><tr><td>1</td><td>1</td><td>114</td><td>71</td><td>3</td><td>2025-06-21</td><td>Sami Al Obaid</td><td>sami.alobaid14@outlook.com</td><td>Saudi Arabia</td><td>2025-10-15</td><td>Wireless Mouse</td><td>Electronics</td><td>800</td><td>City Mall Store</td><td>UAE</td></tr><tr><td>2</td><td>2</td><td>115</td><td>72</td><td>2</td><td>2025-06-23</td><td>Dina Samir</td><td>dina.samir15@hotmail.com</td><td>UAE</td><td>2025-10-17</td><td>Bluetooth Speaker</td><td>Electronics</td><td>1200</td><td>High Street Store</td><td>Saudi Arabia</td></tr><tr><td>3</td><td>3</td><td>116</td><td>73</td><td>1</td><td>2025-06-25</td><td>Adel Nabil</td><td>adel.nabil16@gmail.com</td><td>Egypt</td><td>2025-10-16</td><td>Yoga Mat</td><td>Fitness</td><td>499</td><td>Tech World Outlet</td><td>Qatar</td></tr><tr><td>4</td><td>4</td><td>117</td><td>74</td><td>4</td><td>2025-06-27</td><td>Mariam Al Farsi</td><td>mariam.alfarsi17@outlook.com</td><td>Saudi Arabia</td><td>2025-10-18</td><td>Laptop Stand</td><td>Accessories</td><td>999</td><td>Cairo Festival City Mall</td><td>Egypt</td></tr><tr><td>5</td><td>5</td><td>118</td><td>75</td><td>5</td><td>2025-06-29</td><td>Omar Al Mazrouei</td><td>omar.almazrouei18@yahoo.com</td><td>UAE</td><td>2025-10-19</td><td>Notebook Set</td><td>Stationery</td><td>149</td><td>Mega Plaza</td><td>Kuwait</td></tr><tr><td>1</td><td>6</td><td>119</td><td>76</td><td>2</td><td>2025-07-01</td><td>Nour Khalifa</td><td>nour.khalifa19@gmail.com</td><td>Egypt</td><td>2025-10-15</td><td>Water Bottle</td><td>Fitness</td><td>299</td><td>City Mall Store</td><td>UAE</td></tr><tr><td>2</td><td>7</td><td>120</td><td>77</td><td>3</td><td>2025-07-03</td><td>Yara Saleh</td><td>yara.saleh20@hotmail.com</td><td>Saudi Arabia</td><td>2025-10-17</td><td>Smartwatch</td><td>Electronics</td><td>4999</td><td>High Street Store</td><td>Saudi Arabia</td></tr><tr><td>3</td><td>8</td><td>121</td><td>78</td><td>4</td><td>2025-07-05</td><td>Tariq Hassan</td><td>tariq.hassan21@gmail.com</td><td>UAE</td><td>2025-10-16</td><td>Desk Organizer</td><td>Accessories</td><td>399</td><td>Tech World Outlet</td><td>Qatar</td></tr><tr><td>4</td><td>9</td><td>122</td><td>79</td><td>1</td><td>2025-07-07</td><td>Lina Abdul</td><td>lina.abdul22@outlook.com</td><td>Egypt</td><td>2025-10-18</td><td>Dumbbell Set</td><td>Fitness</td><td>1999</td><td>Cairo Festival City Mall</td><td>Egypt</td></tr><tr><td>5</td><td>10</td><td>123</td><td>80</td><td>2</td><td>2025-07-09</td><td>Rami Al Zahrani</td><td>rami.alzahrani23@yahoo.com</td><td>Saudi Arabia</td><td>2025-10-19</td><td>Pen Drive 32GB</td><td>Electronics</td><td>599</td><td>Mega Plaza</td><td>Kuwait</td></tr><tr><td>4</td><td>4</td><td>124</td><td>54</td><td>5</td><td>2025-05-17</td><td>Samar Fouad</td><td>samar.fouad24@gmail.com</td><td>UAE</td><td>2025-10-15</td><td>Laptop Stand</td><td>Accessories</td><td>999</td><td>Cairo Festival City Mall</td><td>Egypt</td></tr><tr><td>5</td><td>5</td><td>125</td><td>55</td><td>1</td><td>2025-05-19</td><td>Huda Nasser</td><td>huda.nasser25@hotmail.com</td><td>Egypt</td><td>2025-10-17</td><td>Notebook Set</td><td>Stationery</td><td>149</td><td>Mega Plaza</td><td>Kuwait</td></tr><tr><td>1</td><td>6</td><td>126</td><td>56</td><td>4</td><td>2025-05-21</td><td>Mohammed Al Amiri</td><td>mohammed.alamiri26@gmail.com</td><td>Saudi Arabia</td><td>2025-10-16</td><td>Water Bottle</td><td>Fitness</td><td>299</td><td>City Mall Store</td><td>UAE</td></tr><tr><td>2</td><td>7</td><td>127</td><td>57</td><td>2</td><td>2025-05-23</td><td>Leila Hassan</td><td>leila.hassan27@outlook.com</td><td>UAE</td><td>2025-10-18</td><td>Smartwatch</td><td>Electronics</td><td>4999</td><td>High Street Store</td><td>Saudi Arabia</td></tr><tr><td>1</td><td>1</td><td>101</td><td>31</td><td>3</td><td>2025-04-01</td><td>Ahmed Khaled</td><td>ahmed.khaled1@gmail.com</td><td>Egypt</td><td>2025-10-16</td><td>Wireless Mouse</td><td>Electronics</td><td>800</td><td>City Mall Store</td><td>UAE</td></tr><tr><td>2</td><td>2</td><td>102</td><td>32</td><td>2</td><td>2025-04-03</td><td>Sara Al Mansour</td><td>sara.almansour2@outlook.com</td><td>Saudi Arabia</td><td>2025-10-18</td><td>Bluetooth Speaker</td><td>Electronics</td><td>1200</td><td>High Street Store</td><td>Saudi Arabia</td></tr><tr><td>3</td><td>3</td><td>103</td><td>33</td><td>1</td><td>2025-04-05</td><td>Layla Kazemi</td><td>layla.kazemi3@yahoo.com</td><td>UAE</td><td>2025-10-19</td><td>Yoga Mat</td><td>Fitness</td><td>499</td><td>Tech World Outlet</td><td>Qatar</td></tr><tr><td>4</td><td>4</td><td>104</td><td>34</td><td>5</td><td>2025-04-07</td><td>Omar Farouk</td><td>omar.farouk4@gmail.com</td><td>Egypt</td><td>2025-10-17</td><td>Laptop Stand</td><td>Accessories</td><td>999</td><td>Cairo Festival City Mall</td><td>Egypt</td></tr><tr><td>5</td><td>5</td><td>105</td><td>35</td><td>2</td><td>2025-04-09</td><td>Fatima Al Rashid</td><td>fatima.alrashid5@hotmail.com</td><td>Saudi Arabia</td><td>2025-10-15</td><td>Notebook Set</td><td>Stationery</td><td>149</td><td>Mega Plaza</td><td>Kuwait</td></tr><tr><td>1</td><td>6</td><td>106</td><td>36</td><td>4</td><td>2025-04-11</td><td>Yousef Nasser</td><td>yousef.nasser6@gmail.com</td><td>UAE</td><td>2025-10-16</td><td>Water Bottle</td><td>Fitness</td><td>299</td><td>City Mall Store</td><td>UAE</td></tr><tr><td>2</td><td>7</td><td>107</td><td>37</td><td>1</td><td>2025-04-13</td><td>Mona Hossam</td><td>mona.hossam7@yahoo.com</td><td>Egypt</td><td>2025-10-18</td><td>Smartwatch</td><td>Electronics</td><td>4999</td><td>High Street Store</td><td>Saudi Arabia</td></tr><tr><td>3</td><td>8</td><td>108</td><td>38</td><td>3</td><td>2025-04-15</td><td>Hassan Al Saud</td><td>hassan.alsaud8@outlook.com</td><td>Saudi Arabia</td><td>2025-10-19</td><td>Desk Organizer</td><td>Accessories</td><td>399</td><td>Tech World Outlet</td><td>Qatar</td></tr><tr><td>4</td><td>9</td><td>109</td><td>39</td><td>2</td><td>2025-04-17</td><td>Ayesha Khan</td><td>ayesha.khan9@gmail.com</td><td>UAE</td><td>2025-10-15</td><td>Dumbbell Set</td><td>Fitness</td><td>1999</td><td>Cairo Festival City Mall</td><td>Egypt</td></tr><tr><td>5</td><td>10</td><td>110</td><td>40</td><td>5</td><td>2025-04-19</td><td>Tamer Adel</td><td>tamer.adel10@hotmail.com</td><td>Egypt</td><td>2025-10-17</td><td>Pen Drive 32GB</td><td>Electronics</td><td>599</td><td>Mega Plaza</td><td>Kuwait</td></tr><tr><td>1</td><td>1</td><td>111</td><td>41</td><td>1</td><td>2025-04-21</td><td>Rania Saad</td><td>rania.saad11@gmail.com</td><td>Saudi Arabia</td><td>2025-10-16</td><td>Wireless Mouse</td><td>Electronics</td><td>800</td><td>City Mall Store</td><td>UAE</td></tr><tr><td>2</td><td>2</td><td>112</td><td>42</td><td>4</td><td>2025-04-23</td><td>Karim Hamed</td><td>karim.hamed12@yahoo.com</td><td>UAE</td><td>2025-10-18</td><td>Bluetooth Speaker</td><td>Electronics</td><td>1200</td><td>High Street Store</td><td>Saudi Arabia</td></tr><tr><td>3</td><td>3</td><td>113</td><td>43</td><td>2</td><td>2025-04-25</td><td>Laila Fouad</td><td>laila.fouad13@gmail.com</td><td>Egypt</td><td>2025-10-19</td><td>Yoga Mat</td><td>Fitness</td><td>499</td><td>Tech World Outlet</td><td>Qatar</td></tr><tr><td>4</td><td>4</td><td>114</td><td>44</td><td>3</td><td>2025-04-27</td><td>Sami Al Obaid</td><td>sami.alobaid14@outlook.com</td><td>Saudi Arabia</td><td>2025-10-15</td><td>Laptop Stand</td><td>Accessories</td><td>999</td><td>Cairo Festival City Mall</td><td>Egypt</td></tr><tr><td>5</td><td>5</td><td>115</td><td>45</td><td>1</td><td>2025-04-29</td><td>Dina Samir</td><td>dina.samir15@hotmail.com</td><td>UAE</td><td>2025-10-17</td><td>Notebook Set</td><td>Stationery</td><td>149</td><td>Mega Plaza</td><td>Kuwait</td></tr><tr><td>1</td><td>6</td><td>116</td><td>46</td><td>2</td><td>2025-05-01</td><td>Adel Nabil</td><td>adel.nabil16@gmail.com</td><td>Egypt</td><td>2025-10-16</td><td>Water Bottle</td><td>Fitness</td><td>299</td><td>City Mall Store</td><td>UAE</td></tr><tr><td>2</td><td>7</td><td>117</td><td>47</td><td>5</td><td>2025-05-03</td><td>Mariam Al Farsi</td><td>mariam.alfarsi17@outlook.com</td><td>Saudi Arabia</td><td>2025-10-18</td><td>Smartwatch</td><td>Electronics</td><td>4999</td><td>High Street Store</td><td>Saudi Arabia</td></tr><tr><td>3</td><td>8</td><td>118</td><td>48</td><td>3</td><td>2025-05-05</td><td>Omar Al Mazrouei</td><td>omar.almazrouei18@yahoo.com</td><td>UAE</td><td>2025-10-19</td><td>Desk Organizer</td><td>Accessories</td><td>399</td><td>Tech World Outlet</td><td>Qatar</td></tr><tr><td>4</td><td>9</td><td>119</td><td>49</td><td>4</td><td>2025-05-07</td><td>Nour Khalifa</td><td>nour.khalifa19@gmail.com</td><td>Egypt</td><td>2025-10-15</td><td>Dumbbell Set</td><td>Fitness</td><td>1999</td><td>Cairo Festival City Mall</td><td>Egypt</td></tr><tr><td>5</td><td>10</td><td>120</td><td>50</td><td>2</td><td>2025-05-09</td><td>Yara Saleh</td><td>yara.saleh20@hotmail.com</td><td>Saudi Arabia</td><td>2025-10-17</td><td>Pen Drive 32GB</td><td>Electronics</td><td>599</td><td>Mega Plaza</td><td>Kuwait</td></tr><tr><td>1</td><td>1</td><td>121</td><td>51</td><td>3</td><td>2025-05-11</td><td>Tariq Hassan</td><td>tariq.hassan21@gmail.com</td><td>UAE</td><td>2025-10-16</td><td>Wireless Mouse</td><td>Electronics</td><td>800</td><td>City Mall Store</td><td>UAE</td></tr><tr><td>2</td><td>2</td><td>122</td><td>52</td><td>4</td><td>2025-05-13</td><td>Lina Abdul</td><td>lina.abdul22@outlook.com</td><td>Egypt</td><td>2025-10-18</td><td>Bluetooth Speaker</td><td>Electronics</td><td>1200</td><td>High Street Store</td><td>Saudi Arabia</td></tr><tr><td>3</td><td>3</td><td>123</td><td>53</td><td>2</td><td>2025-05-15</td><td>Rami Al Zahrani</td><td>rami.alzahrani23@yahoo.com</td><td>Saudi Arabia</td><td>2025-10-19</td><td>Yoga Mat</td><td>Fitness</td><td>499</td><td>Tech World Outlet</td><td>Qatar</td></tr></tbody></table></div>"
      ]
     },
     "metadata": {
      "application/vnd.databricks.v1+output": {
       "addedWidgets": {},
       "aggData": [],
       "aggError": "",
       "aggOverflow": false,
       "aggSchema": [],
       "aggSeriesLimitReached": false,
       "aggType": "",
       "arguments": {},
       "columnCustomDisplayInfos": {},
       "data": [
        [
         3,
         8,
         101,
         58,
         3,
         "2025-05-25",
         "Ahmed Khaled",
         "ahmed.khaled1@gmail.com",
         "Egypt",
         "2025-10-16",
         "Desk Organizer",
         "Accessories",
         399,
         "Tech World Outlet",
         "Qatar"
        ],
        [
         4,
         9,
         102,
         59,
         5,
         "2025-05-27",
         "Sara Al Mansour",
         "sara.almansour2@outlook.com",
         "Saudi Arabia",
         "2025-10-18",
         "Dumbbell Set",
         "Fitness",
         1999,
         "Cairo Festival City Mall",
         "Egypt"
        ],
        [
         5,
         10,
         103,
         60,
         1,
         "2025-05-29",
         "Layla Kazemi",
         "layla.kazemi3@yahoo.com",
         "UAE",
         "2025-10-19",
         "Pen Drive 32GB",
         "Electronics",
         599,
         "Mega Plaza",
         "Kuwait"
        ],
        [
         1,
         1,
         104,
         61,
         2,
         "2025-06-01",
         "Omar Farouk",
         "omar.farouk4@gmail.com",
         "Egypt",
         "2025-10-17",
         "Wireless Mouse",
         "Electronics",
         800,
         "City Mall Store",
         "UAE"
        ],
        [
         2,
         2,
         105,
         62,
         3,
         "2025-06-03",
         "Fatima Al Rashid",
         "fatima.alrashid5@hotmail.com",
         "Saudi Arabia",
         "2025-10-15",
         "Bluetooth Speaker",
         "Electronics",
         1200,
         "High Street Store",
         "Saudi Arabia"
        ],
        [
         3,
         3,
         106,
         63,
         4,
         "2025-06-05",
         "Yousef Nasser",
         "yousef.nasser6@gmail.com",
         "UAE",
         "2025-10-16",
         "Yoga Mat",
         "Fitness",
         499,
         "Tech World Outlet",
         "Qatar"
        ],
        [
         4,
         4,
         107,
         64,
         5,
         "2025-06-07",
         "Mona Hossam",
         "mona.hossam7@yahoo.com",
         "Egypt",
         "2025-10-18",
         "Laptop Stand",
         "Accessories",
         999,
         "Cairo Festival City Mall",
         "Egypt"
        ],
        [
         5,
         5,
         108,
         65,
         1,
         "2025-06-09",
         "Hassan Al Saud",
         "hassan.alsaud8@outlook.com",
         "Saudi Arabia",
         "2025-10-19",
         "Notebook Set",
         "Stationery",
         149,
         "Mega Plaza",
         "Kuwait"
        ],
        [
         1,
         6,
         109,
         66,
         2,
         "2025-06-11",
         "Ayesha Khan",
         "ayesha.khan9@gmail.com",
         "UAE",
         "2025-10-15",
         "Water Bottle",
         "Fitness",
         299,
         "City Mall Store",
         "UAE"
        ],
        [
         2,
         7,
         110,
         67,
         3,
         "2025-06-13",
         "Tamer Adel",
         "tamer.adel10@hotmail.com",
         "Egypt",
         "2025-10-17",
         "Smartwatch",
         "Electronics",
         4999,
         "High Street Store",
         "Saudi Arabia"
        ],
        [
         3,
         8,
         111,
         68,
         4,
         "2025-06-15",
         "Rania Saad",
         "rania.saad11@gmail.com",
         "Saudi Arabia",
         "2025-10-16",
         "Desk Organizer",
         "Accessories",
         399,
         "Tech World Outlet",
         "Qatar"
        ],
        [
         4,
         9,
         112,
         69,
         5,
         "2025-06-17",
         "Karim Hamed",
         "karim.hamed12@yahoo.com",
         "UAE",
         "2025-10-18",
         "Dumbbell Set",
         "Fitness",
         1999,
         "Cairo Festival City Mall",
         "Egypt"
        ],
        [
         5,
         10,
         113,
         70,
         1,
         "2025-06-19",
         "Laila Fouad",
         "laila.fouad13@gmail.com",
         "Egypt",
         "2025-10-19",
         "Pen Drive 32GB",
         "Electronics",
         599,
         "Mega Plaza",
         "Kuwait"
        ],
        [
         1,
         1,
         114,
         71,
         3,
         "2025-06-21",
         "Sami Al Obaid",
         "sami.alobaid14@outlook.com",
         "Saudi Arabia",
         "2025-10-15",
         "Wireless Mouse",
         "Electronics",
         800,
         "City Mall Store",
         "UAE"
        ],
        [
         2,
         2,
         115,
         72,
         2,
         "2025-06-23",
         "Dina Samir",
         "dina.samir15@hotmail.com",
         "UAE",
         "2025-10-17",
         "Bluetooth Speaker",
         "Electronics",
         1200,
         "High Street Store",
         "Saudi Arabia"
        ],
        [
         3,
         3,
         116,
         73,
         1,
         "2025-06-25",
         "Adel Nabil",
         "adel.nabil16@gmail.com",
         "Egypt",
         "2025-10-16",
         "Yoga Mat",
         "Fitness",
         499,
         "Tech World Outlet",
         "Qatar"
        ],
        [
         4,
         4,
         117,
         74,
         4,
         "2025-06-27",
         "Mariam Al Farsi",
         "mariam.alfarsi17@outlook.com",
         "Saudi Arabia",
         "2025-10-18",
         "Laptop Stand",
         "Accessories",
         999,
         "Cairo Festival City Mall",
         "Egypt"
        ],
        [
         5,
         5,
         118,
         75,
         5,
         "2025-06-29",
         "Omar Al Mazrouei",
         "omar.almazrouei18@yahoo.com",
         "UAE",
         "2025-10-19",
         "Notebook Set",
         "Stationery",
         149,
         "Mega Plaza",
         "Kuwait"
        ],
        [
         1,
         6,
         119,
         76,
         2,
         "2025-07-01",
         "Nour Khalifa",
         "nour.khalifa19@gmail.com",
         "Egypt",
         "2025-10-15",
         "Water Bottle",
         "Fitness",
         299,
         "City Mall Store",
         "UAE"
        ],
        [
         2,
         7,
         120,
         77,
         3,
         "2025-07-03",
         "Yara Saleh",
         "yara.saleh20@hotmail.com",
         "Saudi Arabia",
         "2025-10-17",
         "Smartwatch",
         "Electronics",
         4999,
         "High Street Store",
         "Saudi Arabia"
        ],
        [
         3,
         8,
         121,
         78,
         4,
         "2025-07-05",
         "Tariq Hassan",
         "tariq.hassan21@gmail.com",
         "UAE",
         "2025-10-16",
         "Desk Organizer",
         "Accessories",
         399,
         "Tech World Outlet",
         "Qatar"
        ],
        [
         4,
         9,
         122,
         79,
         1,
         "2025-07-07",
         "Lina Abdul",
         "lina.abdul22@outlook.com",
         "Egypt",
         "2025-10-18",
         "Dumbbell Set",
         "Fitness",
         1999,
         "Cairo Festival City Mall",
         "Egypt"
        ],
        [
         5,
         10,
         123,
         80,
         2,
         "2025-07-09",
         "Rami Al Zahrani",
         "rami.alzahrani23@yahoo.com",
         "Saudi Arabia",
         "2025-10-19",
         "Pen Drive 32GB",
         "Electronics",
         599,
         "Mega Plaza",
         "Kuwait"
        ],
        [
         4,
         4,
         124,
         54,
         5,
         "2025-05-17",
         "Samar Fouad",
         "samar.fouad24@gmail.com",
         "UAE",
         "2025-10-15",
         "Laptop Stand",
         "Accessories",
         999,
         "Cairo Festival City Mall",
         "Egypt"
        ],
        [
         5,
         5,
         125,
         55,
         1,
         "2025-05-19",
         "Huda Nasser",
         "huda.nasser25@hotmail.com",
         "Egypt",
         "2025-10-17",
         "Notebook Set",
         "Stationery",
         149,
         "Mega Plaza",
         "Kuwait"
        ],
        [
         1,
         6,
         126,
         56,
         4,
         "2025-05-21",
         "Mohammed Al Amiri",
         "mohammed.alamiri26@gmail.com",
         "Saudi Arabia",
         "2025-10-16",
         "Water Bottle",
         "Fitness",
         299,
         "City Mall Store",
         "UAE"
        ],
        [
         2,
         7,
         127,
         57,
         2,
         "2025-05-23",
         "Leila Hassan",
         "leila.hassan27@outlook.com",
         "UAE",
         "2025-10-18",
         "Smartwatch",
         "Electronics",
         4999,
         "High Street Store",
         "Saudi Arabia"
        ],
        [
         1,
         1,
         101,
         31,
         3,
         "2025-04-01",
         "Ahmed Khaled",
         "ahmed.khaled1@gmail.com",
         "Egypt",
         "2025-10-16",
         "Wireless Mouse",
         "Electronics",
         800,
         "City Mall Store",
         "UAE"
        ],
        [
         2,
         2,
         102,
         32,
         2,
         "2025-04-03",
         "Sara Al Mansour",
         "sara.almansour2@outlook.com",
         "Saudi Arabia",
         "2025-10-18",
         "Bluetooth Speaker",
         "Electronics",
         1200,
         "High Street Store",
         "Saudi Arabia"
        ],
        [
         3,
         3,
         103,
         33,
         1,
         "2025-04-05",
         "Layla Kazemi",
         "layla.kazemi3@yahoo.com",
         "UAE",
         "2025-10-19",
         "Yoga Mat",
         "Fitness",
         499,
         "Tech World Outlet",
         "Qatar"
        ],
        [
         4,
         4,
         104,
         34,
         5,
         "2025-04-07",
         "Omar Farouk",
         "omar.farouk4@gmail.com",
         "Egypt",
         "2025-10-17",
         "Laptop Stand",
         "Accessories",
         999,
         "Cairo Festival City Mall",
         "Egypt"
        ],
        [
         5,
         5,
         105,
         35,
         2,
         "2025-04-09",
         "Fatima Al Rashid",
         "fatima.alrashid5@hotmail.com",
         "Saudi Arabia",
         "2025-10-15",
         "Notebook Set",
         "Stationery",
         149,
         "Mega Plaza",
         "Kuwait"
        ],
        [
         1,
         6,
         106,
         36,
         4,
         "2025-04-11",
         "Yousef Nasser",
         "yousef.nasser6@gmail.com",
         "UAE",
         "2025-10-16",
         "Water Bottle",
         "Fitness",
         299,
         "City Mall Store",
         "UAE"
        ],
        [
         2,
         7,
         107,
         37,
         1,
         "2025-04-13",
         "Mona Hossam",
         "mona.hossam7@yahoo.com",
         "Egypt",
         "2025-10-18",
         "Smartwatch",
         "Electronics",
         4999,
         "High Street Store",
         "Saudi Arabia"
        ],
        [
         3,
         8,
         108,
         38,
         3,
         "2025-04-15",
         "Hassan Al Saud",
         "hassan.alsaud8@outlook.com",
         "Saudi Arabia",
         "2025-10-19",
         "Desk Organizer",
         "Accessories",
         399,
         "Tech World Outlet",
         "Qatar"
        ],
        [
         4,
         9,
         109,
         39,
         2,
         "2025-04-17",
         "Ayesha Khan",
         "ayesha.khan9@gmail.com",
         "UAE",
         "2025-10-15",
         "Dumbbell Set",
         "Fitness",
         1999,
         "Cairo Festival City Mall",
         "Egypt"
        ],
        [
         5,
         10,
         110,
         40,
         5,
         "2025-04-19",
         "Tamer Adel",
         "tamer.adel10@hotmail.com",
         "Egypt",
         "2025-10-17",
         "Pen Drive 32GB",
         "Electronics",
         599,
         "Mega Plaza",
         "Kuwait"
        ],
        [
         1,
         1,
         111,
         41,
         1,
         "2025-04-21",
         "Rania Saad",
         "rania.saad11@gmail.com",
         "Saudi Arabia",
         "2025-10-16",
         "Wireless Mouse",
         "Electronics",
         800,
         "City Mall Store",
         "UAE"
        ],
        [
         2,
         2,
         112,
         42,
         4,
         "2025-04-23",
         "Karim Hamed",
         "karim.hamed12@yahoo.com",
         "UAE",
         "2025-10-18",
         "Bluetooth Speaker",
         "Electronics",
         1200,
         "High Street Store",
         "Saudi Arabia"
        ],
        [
         3,
         3,
         113,
         43,
         2,
         "2025-04-25",
         "Laila Fouad",
         "laila.fouad13@gmail.com",
         "Egypt",
         "2025-10-19",
         "Yoga Mat",
         "Fitness",
         499,
         "Tech World Outlet",
         "Qatar"
        ],
        [
         4,
         4,
         114,
         44,
         3,
         "2025-04-27",
         "Sami Al Obaid",
         "sami.alobaid14@outlook.com",
         "Saudi Arabia",
         "2025-10-15",
         "Laptop Stand",
         "Accessories",
         999,
         "Cairo Festival City Mall",
         "Egypt"
        ],
        [
         5,
         5,
         115,
         45,
         1,
         "2025-04-29",
         "Dina Samir",
         "dina.samir15@hotmail.com",
         "UAE",
         "2025-10-17",
         "Notebook Set",
         "Stationery",
         149,
         "Mega Plaza",
         "Kuwait"
        ],
        [
         1,
         6,
         116,
         46,
         2,
         "2025-05-01",
         "Adel Nabil",
         "adel.nabil16@gmail.com",
         "Egypt",
         "2025-10-16",
         "Water Bottle",
         "Fitness",
         299,
         "City Mall Store",
         "UAE"
        ],
        [
         2,
         7,
         117,
         47,
         5,
         "2025-05-03",
         "Mariam Al Farsi",
         "mariam.alfarsi17@outlook.com",
         "Saudi Arabia",
         "2025-10-18",
         "Smartwatch",
         "Electronics",
         4999,
         "High Street Store",
         "Saudi Arabia"
        ],
        [
         3,
         8,
         118,
         48,
         3,
         "2025-05-05",
         "Omar Al Mazrouei",
         "omar.almazrouei18@yahoo.com",
         "UAE",
         "2025-10-19",
         "Desk Organizer",
         "Accessories",
         399,
         "Tech World Outlet",
         "Qatar"
        ],
        [
         4,
         9,
         119,
         49,
         4,
         "2025-05-07",
         "Nour Khalifa",
         "nour.khalifa19@gmail.com",
         "Egypt",
         "2025-10-15",
         "Dumbbell Set",
         "Fitness",
         1999,
         "Cairo Festival City Mall",
         "Egypt"
        ],
        [
         5,
         10,
         120,
         50,
         2,
         "2025-05-09",
         "Yara Saleh",
         "yara.saleh20@hotmail.com",
         "Saudi Arabia",
         "2025-10-17",
         "Pen Drive 32GB",
         "Electronics",
         599,
         "Mega Plaza",
         "Kuwait"
        ],
        [
         1,
         1,
         121,
         51,
         3,
         "2025-05-11",
         "Tariq Hassan",
         "tariq.hassan21@gmail.com",
         "UAE",
         "2025-10-16",
         "Wireless Mouse",
         "Electronics",
         800,
         "City Mall Store",
         "UAE"
        ],
        [
         2,
         2,
         122,
         52,
         4,
         "2025-05-13",
         "Lina Abdul",
         "lina.abdul22@outlook.com",
         "Egypt",
         "2025-10-18",
         "Bluetooth Speaker",
         "Electronics",
         1200,
         "High Street Store",
         "Saudi Arabia"
        ],
        [
         3,
         3,
         123,
         53,
         2,
         "2025-05-15",
         "Rami Al Zahrani",
         "rami.alzahrani23@yahoo.com",
         "Saudi Arabia",
         "2025-10-19",
         "Yoga Mat",
         "Fitness",
         499,
         "Tech World Outlet",
         "Qatar"
        ]
       ],
       "datasetInfos": [],
       "dbfsResultPath": null,
       "isJsonSchema": true,
       "metadata": {},
       "overflow": false,
       "plotOptions": {
        "customPlotOptions": {},
        "displayType": "table",
        "pivotAggregation": null,
        "pivotColumns": null,
        "xColumns": null,
        "yColumns": null
       },
       "removedWidgets": [],
       "schema": [
        {
         "metadata": "{}",
         "name": "store_id",
         "type": "\"integer\""
        },
        {
         "metadata": "{}",
         "name": "product_id",
         "type": "\"integer\""
        },
        {
         "metadata": "{}",
         "name": "customer_id",
         "type": "\"integer\""
        },
        {
         "metadata": "{}",
         "name": "transaction_id",
         "type": "\"integer\""
        },
        {
         "metadata": "{}",
         "name": "quantity",
         "type": "\"integer\""
        },
        {
         "metadata": "{}",
         "name": "transaction_date",
         "type": "\"date\""
        },
        {
         "metadata": "{}",
         "name": "full_name",
         "type": "\"string\""
        },
        {
         "metadata": "{}",
         "name": "email",
         "type": "\"string\""
        },
        {
         "metadata": "{}",
         "name": "country",
         "type": "\"string\""
        },
        {
         "metadata": "{}",
         "name": "registration_date",
         "type": "\"string\""
        },
        {
         "metadata": "{}",
         "name": "product_name",
         "type": "\"string\""
        },
        {
         "metadata": "{}",
         "name": "category",
         "type": "\"string\""
        },
        {
         "metadata": "{}",
         "name": "price",
         "type": "\"integer\""
        },
        {
         "metadata": "{}",
         "name": "store_name",
         "type": "\"string\""
        },
        {
         "metadata": "{}",
         "name": "location",
         "type": "\"string\""
        }
       ],
       "type": "table"
      }
     },
     "output_type": "display_data"
    }
   ],
   "source": [
    "display(df)"
   ]
  },
  {
   "cell_type": "code",
   "execution_count": 0,
   "metadata": {
    "application/vnd.databricks.v1+cell": {
     "cellMetadata": {
      "byteLimit": 2048000,
      "rowLimit": 10000
     },
     "inputWidgets": {},
     "nuid": "0001b4c2-b93e-4a12-8987-84981cd99ef0",
     "showTitle": false,
     "tableResultSettingsMap": {},
     "title": ""
    }
   },
   "outputs": [
    {
     "data": {
      "text/html": [
       "<style scoped>\n",
       "  .table-result-container {\n",
       "    max-height: 300px;\n",
       "    overflow: auto;\n",
       "  }\n",
       "  table, th, td {\n",
       "    border: 1px solid black;\n",
       "    border-collapse: collapse;\n",
       "  }\n",
       "  th, td {\n",
       "    padding: 5px;\n",
       "  }\n",
       "  th {\n",
       "    text-align: left;\n",
       "  }\n",
       "</style><div class='table-result-container'><table class='table-result'><thead style='background-color: white'><tr><th>country</th><th>count(transaction_id AS total_sales)</th></tr></thead><tbody><tr><td>Saudi Arabia</td><td>17</td></tr><tr><td>UAE</td><td>16</td></tr><tr><td>Egypt</td><td>17</td></tr></tbody></table></div>"
      ]
     },
     "metadata": {
      "application/vnd.databricks.v1+output": {
       "addedWidgets": {},
       "aggData": [],
       "aggError": "",
       "aggOverflow": false,
       "aggSchema": [],
       "aggSeriesLimitReached": false,
       "aggType": "",
       "arguments": {},
       "columnCustomDisplayInfos": {},
       "data": [
        [
         "Saudi Arabia",
         17
        ],
        [
         "UAE",
         16
        ],
        [
         "Egypt",
         17
        ]
       ],
       "datasetInfos": [],
       "dbfsResultPath": null,
       "isJsonSchema": true,
       "metadata": {},
       "overflow": false,
       "plotOptions": {
        "customPlotOptions": {},
        "displayType": "table",
        "pivotAggregation": null,
        "pivotColumns": null,
        "xColumns": null,
        "yColumns": null
       },
       "removedWidgets": [],
       "schema": [
        {
         "metadata": "{}",
         "name": "country",
         "type": "\"string\""
        },
        {
         "metadata": "{\"__autoGeneratedAlias\":\"true\"}",
         "name": "count(transaction_id AS total_sales)",
         "type": "\"long\""
        }
       ],
       "type": "table"
      }
     },
     "output_type": "display_data"
    }
   ],
   "source": [
    "df_sales_by_country=df.groupBy(\"country\").agg(count(col(\"transaction_id\").alias(\"total_sales\")))\n",
    "display(df_sales_by_country)"
   ]
  }
 ],
 "metadata": {
  "application/vnd.databricks.v1+notebook": {
   "computePreferences": null,
   "dashboards": [],
   "environmentMetadata": {
    "base_environment": "",
    "environment_version": "4"
   },
   "inputWidgetPreferences": null,
   "language": "python",
   "notebookMetadata": {
    "pythonIndentUnit": 4
   },
   "notebookName": "Untitled Notebook 2025-10-21 21:55:38",
   "widgets": {}
  },
  "language_info": {
   "name": "python"
  }
 },
 "nbformat": 4,
 "nbformat_minor": 0
}
